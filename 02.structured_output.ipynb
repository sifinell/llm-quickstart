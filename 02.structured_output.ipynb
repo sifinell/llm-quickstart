{
 "cells": [
  {
   "cell_type": "markdown",
   "metadata": {
    "application/vnd.databricks.v1+cell": {
     "cellMetadata": {},
     "inputWidgets": {},
     "nuid": "10f7f51b-cfec-4f62-93b1-14b946af0c94",
     "showTitle": false,
     "tableResultSettingsMap": {},
     "title": ""
    }
   },
   "source": [
    "# Getting Started with Structured Output\n",
    "\n",
    "We will be using the [OpenAI APIs](https://platform.openai.com/) for all examples."
   ]
  },
  {
   "cell_type": "markdown",
   "metadata": {
    "application/vnd.databricks.v1+cell": {
     "cellMetadata": {},
     "inputWidgets": {},
     "nuid": "c15e3ea0-a798-4f26-b547-b0608a71391b",
     "showTitle": false,
     "tableResultSettingsMap": {},
     "title": ""
    }
   },
   "source": [
    "---"
   ]
  },
  {
   "cell_type": "markdown",
   "metadata": {
    "application/vnd.databricks.v1+cell": {
     "cellMetadata": {},
     "inputWidgets": {},
     "nuid": "e2c51310-cccb-48bd-88ac-6ba9b223d61b",
     "showTitle": false,
     "tableResultSettingsMap": {},
     "title": ""
    }
   },
   "source": [
    "## 2. Structured Output with LLMs\n",
    "\n",
    "Objectives\n",
    "- Load the necessary libraries\n",
    "- Understand structured output formats\n",
    "- Create prompts for structured data extraction\n",
    "- Explore common use cases for structured outputs"
   ]
  },
  {
   "cell_type": "markdown",
   "metadata": {
    "application/vnd.databricks.v1+cell": {
     "cellMetadata": {},
     "inputWidgets": {},
     "nuid": "d8b0787f-717c-4028-af78-8bc211a3bd88",
     "showTitle": false,
     "tableResultSettingsMap": {},
     "title": ""
    }
   },
   "source": [
    "Below we are loading the necessary libraries, utilities, and configurations."
   ]
  },
  {
   "cell_type": "code",
   "execution_count": 0,
   "metadata": {
    "application/vnd.databricks.v1+cell": {
     "cellMetadata": {
      "byteLimit": 2048000,
      "rowLimit": 10000
     },
     "inputWidgets": {},
     "nuid": "5cb3124a-d7e2-4a19-85f9-a5ae8186f7bf",
     "showTitle": false,
     "tableResultSettingsMap": {},
     "title": ""
    }
   },
   "outputs": [
    {
     "output_type": "stream",
     "name": "stdout",
     "output_type": "stream",
     "text": [
      "Collecting openai\n  Downloading openai-2.1.0-py3-none-any.whl (964 kB)\n     ━━━━━━━━━━━━━━━━━━━━━━━━━━━━━━━━━━━━━━ 964.9/964.9 kB 14.4 MB/s eta 0:00:00\nRequirement already satisfied: anyio<5,>=3.5.0 in /databricks/python3/lib/python3.10/site-packages (from openai) (3.5.0)\nCollecting typing-extensions<5,>=4.11\n  Downloading typing_extensions-4.15.0-py3-none-any.whl (44 kB)\n     ━━━━━━━━━━━━━━━━━━━━━━━━━━━━━━━━━━━━━━━━ 44.6/44.6 kB 8.9 MB/s eta 0:00:00\nCollecting httpx<1,>=0.23.0\n  Downloading httpx-0.28.1-py3-none-any.whl (73 kB)\n     ━━━━━━━━━━━━━━━━━━━━━━━━━━━━━━━━━━━━━━━━ 73.5/73.5 kB 25.9 MB/s eta 0:00:00\nRequirement already satisfied: distro<2,>=1.7.0 in /usr/lib/python3/dist-packages (from openai) (1.7.0)\nRequirement already satisfied: pydantic<3,>=1.9.0 in /databricks/python3/lib/python3.10/site-packages (from openai) (1.10.6)\nCollecting tqdm>4\n  Downloading tqdm-4.67.1-py3-none-any.whl (78 kB)\n     ━━━━━━━━━━━━━━━━━━━━━━━━━━━━━━━━━━━━━━━━ 78.5/78.5 kB 25.2 MB/s eta 0:00:00\nCollecting jiter<1,>=0.4.0\n  Downloading jiter-0.11.0-cp310-cp310-manylinux_2_17_x86_64.manylinux2014_x86_64.whl (348 kB)\n     ━━━━━━━━━━━━━━━━━━━━━━━━━━━━━━━━━━━━━━ 348.7/348.7 kB 84.0 MB/s eta 0:00:00\nRequirement already satisfied: sniffio in /databricks/python3/lib/python3.10/site-packages (from openai) (1.2.0)\nRequirement already satisfied: idna>=2.8 in /databricks/python3/lib/python3.10/site-packages (from anyio<5,>=3.5.0->openai) (3.4)\nRequirement already satisfied: certifi in /databricks/python3/lib/python3.10/site-packages (from httpx<1,>=0.23.0->openai) (2022.12.7)\nCollecting httpcore==1.*\n  Downloading httpcore-1.0.9-py3-none-any.whl (78 kB)\n     ━━━━━━━━━━━━━━━━━━━━━━━━━━━━━━━━━━━━━━━━ 78.8/78.8 kB 34.0 MB/s eta 0:00:00\nCollecting h11>=0.16\n  Downloading h11-0.16.0-py3-none-any.whl (37 kB)\nInstalling collected packages: typing-extensions, tqdm, jiter, h11, httpcore, httpx, openai\n  Attempting uninstall: typing-extensions\n    Found existing installation: typing_extensions 4.4.0\n    Not uninstalling typing-extensions at /databricks/python3/lib/python3.10/site-packages, outside environment /local_disk0/.ephemeral_nfs/envs/pythonEnv-b93124af-490d-4e85-b46a-e8d3886cde4f\n    Can't uninstall 'typing_extensions'. No files were found to uninstall.\nSuccessfully installed h11-0.16.0 httpcore-1.0.9 httpx-0.28.1 jiter-0.11.0 openai-2.1.0 tqdm-4.67.1 typing-extensions-4.15.0\n\u001B[43mNote: you may need to restart the kernel using %restart_python or dbutils.library.restartPython() to use updated packages.\u001B[0m\nRequirement already satisfied: typing_extensions in /local_disk0/.ephemeral_nfs/envs/pythonEnv-b93124af-490d-4e85-b46a-e8d3886cde4f/lib/python3.10/site-packages (4.15.0)\n\u001B[43mNote: you may need to restart the kernel using %restart_python or dbutils.library.restartPython() to use updated packages.\u001B[0m\n"
     ]
    }
   ],
   "source": [
    "# update or install the necessary libraries\n",
    "!pip install openai\n",
    "!pip install --upgrade typing_extensions"
   ]
  },
  {
   "cell_type": "code",
   "execution_count": 0,
   "metadata": {
    "application/vnd.databricks.v1+cell": {
     "cellMetadata": {
      "byteLimit": 2048000,
      "rowLimit": 10000
     },
     "inputWidgets": {},
     "nuid": "9366abbd-91a2-4c38-a0ec-22fa88f32144",
     "showTitle": false,
     "tableResultSettingsMap": {},
     "title": ""
    }
   },
   "outputs": [],
   "source": [
    "dbutils.library.restartPython()"
   ]
  },
  {
   "cell_type": "code",
   "execution_count": 0,
   "metadata": {
    "application/vnd.databricks.v1+cell": {
     "cellMetadata": {
      "byteLimit": 2048000,
      "rowLimit": 10000
     },
     "inputWidgets": {},
     "nuid": "d2a38936-c19a-4cb4-b112-37188c7564bb",
     "showTitle": false,
     "tableResultSettingsMap": {},
     "title": ""
    }
   },
   "outputs": [],
   "source": [
    "from openai import OpenAI\n",
    "import os\n",
    "from pydantic import BaseModel\n",
    "import IPython\n",
    "\n",
    "DATABRICKS_TOKEN = dbutils.notebook.entry_point.getDbutils().notebook().getContext().apiToken().get()\n",
    "\n",
    "client = OpenAI(\n",
    "  api_key=DATABRICKS_TOKEN,\n",
    "  base_url=\"https://adb-3750392177977863.3.azuredatabricks.net/serving-endpoints\"\n",
    ")"
   ]
  },
  {
   "cell_type": "markdown",
   "metadata": {
    "application/vnd.databricks.v1+cell": {
     "cellMetadata": {},
     "inputWidgets": {},
     "nuid": "eaf462bf-2c44-472d-be1f-c8bc9071918e",
     "showTitle": false,
     "tableResultSettingsMap": {},
     "title": ""
    }
   },
   "source": [
    "### 2.1 Generic extraction"
   ]
  },
  {
   "cell_type": "code",
   "execution_count": 0,
   "metadata": {
    "application/vnd.databricks.v1+cell": {
     "cellMetadata": {
      "byteLimit": 2048000,
      "rowLimit": 10000
     },
     "inputWidgets": {},
     "nuid": "bcebe38c-2494-4341-bee0-d705f9197249",
     "showTitle": false,
     "tableResultSettingsMap": {},
     "title": ""
    }
   },
   "outputs": [],
   "source": [
    "chat_completion = client.chat.completions.create(\n",
    "  messages=[\n",
    "      {\"role\": \"system\", \"content\": \"Extract the event information.\"},\n",
    "      {\"role\": \"user\", \"content\": \"Alice and Bob are going to a science fair on Friday.\"},\n",
    "  ],\n",
    "  model=\"databricks-gpt-oss-120b\",\n",
    "  max_tokens=256\n",
    ")"
   ]
  },
  {
   "cell_type": "code",
   "execution_count": 0,
   "metadata": {
    "application/vnd.databricks.v1+cell": {
     "cellMetadata": {
      "byteLimit": 2048000,
      "rowLimit": 10000
     },
     "inputWidgets": {},
     "nuid": "bcfe2e5a-ee56-40f5-ae8a-fd0625b3a06a",
     "showTitle": false,
     "tableResultSettingsMap": {},
     "title": ""
    }
   },
   "outputs": [
    {
     "output_type": "execute_result",
     "data": {
      "text/markdown": [
       "**Extracted Event Information**\n",
       "\n",
       "```json\n",
       "{\n",
       "  \"event\": \"science fair\",\n",
       "  \"participants\": [\n",
       "    \"Alice\",\n",
       "    \"Bob\"\n",
       "  ],\n",
       "  \"date\": \"Friday\"\n",
       "}\n",
       "```"
      ],
      "text/plain": [
       "<IPython.core.display.Markdown object>"
      ]
     },
     "execution_count": 15,
     "metadata": {},
     "output_type": "execute_result"
    }
   ],
   "source": [
    "IPython.display.Markdown(chat_completion.choices[0].message.content[1]['text'])"
   ]
  },
  {
   "cell_type": "markdown",
   "metadata": {
    "application/vnd.databricks.v1+cell": {
     "cellMetadata": {},
     "inputWidgets": {},
     "nuid": "044b4565-a021-4f69-91ab-660d604abbc6",
     "showTitle": false,
     "tableResultSettingsMap": {},
     "title": ""
    }
   },
   "source": [
    "### 2.2 Explicit request json only"
   ]
  },
  {
   "cell_type": "code",
   "execution_count": 0,
   "metadata": {
    "application/vnd.databricks.v1+cell": {
     "cellMetadata": {
      "byteLimit": 2048000,
      "rowLimit": 10000
     },
     "inputWidgets": {},
     "nuid": "c3f9873e-9d0a-495c-bde2-ba256d27b664",
     "showTitle": false,
     "tableResultSettingsMap": {},
     "title": ""
    }
   },
   "outputs": [],
   "source": [
    "chat_completion = client.chat.completions.create(\n",
    "  messages=[\n",
    "      {\"role\": \"system\", \"content\": \"Extract the event information in json format. Make sure to only return a json object in your response\"},\n",
    "      {\"role\": \"user\", \"content\": \"Alice and Bob are going to a science fair on Friday.\"},\n",
    "  ],\n",
    "  model=\"databricks-gpt-oss-120b\",\n",
    "  max_tokens=256\n",
    ")"
   ]
  },
  {
   "cell_type": "code",
   "execution_count": 0,
   "metadata": {
    "application/vnd.databricks.v1+cell": {
     "cellMetadata": {
      "byteLimit": 2048000,
      "rowLimit": 10000
     },
     "inputWidgets": {},
     "nuid": "3a4b617e-88ac-459e-8a57-1d75bcbf492e",
     "showTitle": false,
     "tableResultSettingsMap": {},
     "title": ""
    }
   },
   "outputs": [
    {
     "output_type": "execute_result",
     "data": {
      "text/markdown": [
       "{\n",
       "  \"participants\": [\"Alice\", \"Bob\"],\n",
       "  \"event\": \"science fair\",\n",
       "  \"date\": \"Friday\"\n",
       "}"
      ],
      "text/plain": [
       "<IPython.core.display.Markdown object>"
      ]
     },
     "execution_count": 18,
     "metadata": {},
     "output_type": "execute_result"
    }
   ],
   "source": [
    "IPython.display.Markdown(chat_completion.choices[0].message.content[1]['text'])"
   ]
  },
  {
   "cell_type": "markdown",
   "metadata": {
    "application/vnd.databricks.v1+cell": {
     "cellMetadata": {},
     "inputWidgets": {},
     "nuid": "5672d16a-480d-4320-9172-5d12dfce4438",
     "showTitle": false,
     "tableResultSettingsMap": {},
     "title": ""
    }
   },
   "source": [
    "### 2.3 Explicit request json only + format + examples"
   ]
  },
  {
   "cell_type": "code",
   "execution_count": 0,
   "metadata": {
    "application/vnd.databricks.v1+cell": {
     "cellMetadata": {
      "byteLimit": 2048000,
      "rowLimit": 10000
     },
     "inputWidgets": {},
     "nuid": "af0c85b4-0bb6-406f-b752-b793b1860d04",
     "showTitle": false,
     "tableResultSettingsMap": {},
     "title": ""
    }
   },
   "outputs": [],
   "source": [
    "schema = \"\"\"\n",
    "Return a JSON object with the following fields:\n",
    "- \"event\": string, the name of the event\n",
    "- \"participants\": list of strings, the people involved\n",
    "- \"date\": string, the date of the event (if available)\n",
    "- \"location\": string, the location of the event (if available)\n",
    "Only return a JSON object matching this schema.\n",
    "\"\"\"\n",
    "\n",
    "few_shot_examples = [\n",
    "    # Example 1\n",
    "    {\"role\": \"user\", \"content\": \"John and Mary will attend a wedding in Paris on Saturday.\"},\n",
    "    {\"role\": \"assistant\", \"content\": '''\n",
    "{\n",
    "  \"event\": \"wedding\",\n",
    "  \"participants\": [\"John\", \"Mary\"],\n",
    "  \"date\": \"Saturday\",\n",
    "  \"location\": \"Paris\"\n",
    "}\n",
    "'''},\n",
    "\n",
    "    # Example 2\n",
    "    {\"role\": \"user\", \"content\": \"Bob is going to a conference next week.\"},\n",
    "    {\"role\": \"assistant\", \"content\": '''\n",
    "{\n",
    "  \"event\": \"conference\",\n",
    "  \"participants\": [\"Bob\"],\n",
    "  \"date\": \"next week\",\n",
    "  \"location\": \"\"\n",
    "}\n",
    "'''},\n",
    "]\n",
    "\n",
    "messages = [\n",
    "    {\"role\": \"system\", \"content\": f\"Extract event information. {schema}\"},\n",
    "    *few_shot_examples,\n",
    "    {\"role\": \"user\", \"content\": \"Alice and Bob are going to a science fair on Friday.\"},\n",
    "]\n",
    "\n",
    "chat_completion = client.chat.completions.create(\n",
    "    messages=messages,\n",
    "    model=\"databricks-gpt-oss-120b\",\n",
    "    max_tokens=256\n",
    ")"
   ]
  },
  {
   "cell_type": "code",
   "execution_count": 0,
   "metadata": {
    "application/vnd.databricks.v1+cell": {
     "cellMetadata": {
      "byteLimit": 2048000,
      "rowLimit": 10000
     },
     "inputWidgets": {},
     "nuid": "3ad6fe80-e243-4c8d-ae37-3bd3fddf0aee",
     "showTitle": false,
     "tableResultSettingsMap": {},
     "title": ""
    }
   },
   "outputs": [
    {
     "output_type": "execute_result",
     "data": {
      "text/markdown": [
       "{\n",
       "  \"event\": \"science fair\",\n",
       "  \"participants\": [\"Alice\", \"Bob\"],\n",
       "  \"date\": \"Friday\",\n",
       "  \"location\": \"\"\n",
       "}"
      ],
      "text/plain": [
       "<IPython.core.display.Markdown object>"
      ]
     },
     "execution_count": 21,
     "metadata": {},
     "output_type": "execute_result"
    }
   ],
   "source": [
    "IPython.display.Markdown(chat_completion.choices[0].message.content[1]['text'])"
   ]
  },
  {
   "cell_type": "markdown",
   "metadata": {
    "application/vnd.databricks.v1+cell": {
     "cellMetadata": {},
     "inputWidgets": {},
     "nuid": "987fbf7e-1b48-4b54-80b8-e217138212c5",
     "showTitle": false,
     "tableResultSettingsMap": {},
     "title": ""
    }
   },
   "source": [
    "### 2.4 Structured Output"
   ]
  },
  {
   "cell_type": "markdown",
   "metadata": {
    "application/vnd.databricks.v1+cell": {
     "cellMetadata": {},
     "inputWidgets": {},
     "nuid": "ca36564e-69ec-466d-bd1f-9306e0a62286",
     "showTitle": false,
     "tableResultSettingsMap": {},
     "title": ""
    }
   },
   "source": [
    "More info on proper structured output available here: https://platform.openai.com/docs/guides/structured-outputs?example=structured-data"
   ]
  },
  {
   "cell_type": "markdown",
   "metadata": {
    "application/vnd.databricks.v1+cell": {
     "cellMetadata": {},
     "inputWidgets": {},
     "nuid": "b80d71f2-3bb9-4798-98da-d19a6c7322f5",
     "showTitle": false,
     "tableResultSettingsMap": {},
     "title": ""
    }
   },
   "source": []
  },
  {
   "cell_type": "markdown",
   "metadata": {
    "application/vnd.databricks.v1+cell": {
     "cellMetadata": {},
     "inputWidgets": {},
     "nuid": "1aaa53b8-1096-447c-b4a6-1c8fdb06d6af",
     "showTitle": false,
     "tableResultSettingsMap": {},
     "title": ""
    }
   },
   "source": [
    "### 2.5 Examples"
   ]
  },
  {
   "cell_type": "code",
   "execution_count": 0,
   "metadata": {
    "application/vnd.databricks.v1+cell": {
     "cellMetadata": {
      "byteLimit": 2048000,
      "rowLimit": 10000
     },
     "inputWidgets": {},
     "nuid": "699331de-c690-41ee-bcd3-76b4be5f55b0",
     "showTitle": false,
     "tableResultSettingsMap": {},
     "title": ""
    }
   },
   "outputs": [
    {
     "output_type": "execute_result",
     "data": {
      "text/markdown": [
       "{\n",
       "  \"sentiment\": \"positive\",\n",
       "  \"reason\": \"The statement expresses strong satisfaction ('exceeded my expectations') and a willingness to repurchase, indicating a clearly positive sentiment.\"\n",
       "}"
      ],
      "text/plain": [
       "<IPython.core.display.Markdown object>"
      ]
     },
     "execution_count": 34,
     "metadata": {},
     "output_type": "execute_result"
    }
   ],
   "source": [
    "# 1. Sentiment Analysis Extraction\n",
    "messages = [\n",
    "    {\"role\": \"system\", \"content\": \"Extract sentiment as a JSON object with fields: sentiment (positive, negative, neutral), and reason.\"},\n",
    "    {\"role\": \"user\", \"content\": \"The product exceeded my expectations and I would buy it again.\"}\n",
    "]\n",
    "response_format = {\"type\": \"json_object\"}\n",
    "response = client.chat.completions.create(\n",
    "    model=\"databricks-gpt-oss-120b\",\n",
    "    messages=messages\n",
    ")\n",
    "\n",
    "IPython.display.Markdown(response.choices[0].message.content[1]['text'])"
   ]
  },
  {
   "cell_type": "code",
   "execution_count": 0,
   "metadata": {
    "application/vnd.databricks.v1+cell": {
     "cellMetadata": {
      "byteLimit": 2048000,
      "rowLimit": 10000
     },
     "inputWidgets": {},
     "nuid": "9c102bc0-32bb-4509-9d89-0ad50ceac27f",
     "showTitle": false,
     "tableResultSettingsMap": {},
     "title": ""
    }
   },
   "outputs": [
    {
     "output_type": "execute_result",
     "data": {
      "text/markdown": [
       "```json\n",
       "{\n",
       "  \"name\": \"SmartHome Mini\",\n",
       "  \"price\": 49.99,\n",
       "  \"color\": [\"black\", \"white\"],\n",
       "  \"size\": \"5 inches wide\"\n",
       "}\n",
       "```"
      ],
      "text/plain": [
       "<IPython.core.display.Markdown object>"
      ]
     },
     "execution_count": 36,
     "metadata": {},
     "output_type": "execute_result"
    }
   ],
   "source": [
    "# 2. Product Attribute Extraction\n",
    "messages = [\n",
    "    {\"role\": \"system\", \"content\": \"Extract product attributes as JSON: name, price, color, size, and ensure the response is in JSON format.\"},\n",
    "    {\"role\": \"user\", \"content\": \"The SmartHome Mini is a compact smart home assistant available in black or white for only $49.99. It's 5 inches wide.\"}\n",
    "]\n",
    "response_format = {\"type\": \"json_object\"}\n",
    "response = client.chat.completions.create(\n",
    "    model=\"databricks-gpt-oss-120b\",\n",
    "    messages=messages\n",
    ")\n",
    "\n",
    "IPython.display.Markdown(response.choices[0].message.content[1]['text'])"
   ]
  },
  {
   "cell_type": "code",
   "execution_count": 0,
   "metadata": {
    "application/vnd.databricks.v1+cell": {
     "cellMetadata": {
      "byteLimit": 2048000,
      "rowLimit": 10000
     },
     "inputWidgets": {},
     "nuid": "691cf957-6322-484c-a419-6e40997c44a2",
     "showTitle": false,
     "tableResultSettingsMap": {},
     "title": ""
    }
   },
   "outputs": [
    {
     "output_type": "execute_result",
     "data": {
      "text/markdown": [
       "```json\n",
       "[\n",
       "  {\n",
       "    \"city\": \"Paris\",\n",
       "    \"country\": \"France\"\n",
       "  },\n",
       "  {\n",
       "    \"city\": \"Berlin\",\n",
       "    \"country\": \"Germany\"\n",
       "  }\n",
       "]\n",
       "```"
      ],
      "text/plain": [
       "<IPython.core.display.Markdown object>"
      ]
     },
     "execution_count": 37,
     "metadata": {},
     "output_type": "execute_result"
    }
   ],
   "source": [
    "# 3. Location Extraction\n",
    "messages = [\n",
    "    {\"role\": \"system\", \"content\": \"Extract location details as a JSON object with fields: city, country.\"},\n",
    "    {\"role\": \"user\", \"content\": \"I recently traveled from Paris, France to Berlin, Germany for a conference.\"}\n",
    "]\n",
    "response_format = {\"type\": \"json_object\"}\n",
    "response = client.chat.completions.create(\n",
    "    model=\"databricks-gpt-oss-120b\",\n",
    "    messages=messages\n",
    ")\n",
    "\n",
    "IPython.display.Markdown(response.choices[0].message.content[1]['text'])"
   ]
  },
  {
   "cell_type": "code",
   "execution_count": 0,
   "metadata": {
    "application/vnd.databricks.v1+cell": {
     "cellMetadata": {
      "byteLimit": 2048000,
      "rowLimit": 10000
     },
     "inputWidgets": {},
     "nuid": "1b8a14ef-d2b3-46b8-aed4-fe681b566317",
     "showTitle": false,
     "tableResultSettingsMap": {},
     "title": ""
    }
   },
   "outputs": [
    {
     "output_type": "execute_result",
     "data": {
      "text/markdown": [
       "```json\n",
       "{\n",
       "  \"name\": \"Jane Doe\",\n",
       "  \"email\": \"jane.doe@email.com\",\n",
       "  \"phone\": \"555-1234\"\n",
       "}\n",
       "```"
      ],
      "text/plain": [
       "<IPython.core.display.Markdown object>"
      ]
     },
     "execution_count": 38,
     "metadata": {},
     "output_type": "execute_result"
    }
   ],
   "source": [
    "# 4. Contact Information Extraction\n",
    "messages = [\n",
    "    {\"role\": \"system\", \"content\": \"Extract contact information as a JSON object with fields: name, email, phone.\"},\n",
    "    {\"role\": \"user\", \"content\": \"You can reach Jane Doe at jane.doe@email.com or call her at 555-1234.\"}\n",
    "]\n",
    "response_format = {\"type\": \"json_object\"}\n",
    "response = client.chat.completions.create(\n",
    "    model=\"databricks-gpt-oss-120b\",\n",
    "    messages=messages\n",
    ")\n",
    "\n",
    "IPython.display.Markdown(response.choices[0].message.content[1]['text'])"
   ]
  },
  {
   "cell_type": "code",
   "execution_count": 0,
   "metadata": {
    "application/vnd.databricks.v1+cell": {
     "cellMetadata": {},
     "inputWidgets": {},
     "nuid": "12ed0ec9-fc74-484a-86f8-c2d540ff0021",
     "showTitle": false,
     "tableResultSettingsMap": {},
     "title": ""
    }
   },
   "outputs": [],
   "source": []
  }
 ],
 "metadata": {
  "application/vnd.databricks.v1+notebook": {
   "computePreferences": {
    "hardware": {
     "accelerator": null,
     "gpuPoolId": null,
     "memory": null
    }
   },
   "dashboards": [],
   "environmentMetadata": null,
   "inputWidgetPreferences": null,
   "language": "python",
   "notebookMetadata": {
    "pythonIndentUnit": 4
   },
   "notebookName": "02.structured_output",
   "widgets": {}
  },
  "kernelspec": {
   "display_name": "promptlecture",
   "language": "python",
   "name": "python3"
  },
  "language_info": {
   "name": "python"
  },
  "orig_nbformat": 4,
  "vscode": {
   "interpreter": {
    "hash": "f38e0373277d6f71ee44ee8fea5f1d408ad6999fda15d538a69a99a1665a839d"
   }
  }
 },
 "nbformat": 4,
 "nbformat_minor": 0
}