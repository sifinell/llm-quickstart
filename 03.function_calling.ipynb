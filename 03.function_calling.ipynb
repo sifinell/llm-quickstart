{
 "cells": [
  {
   "cell_type": "markdown",
   "metadata": {
    "application/vnd.databricks.v1+cell": {
     "cellMetadata": {},
     "inputWidgets": {},
     "nuid": "10f7f51b-cfec-4f62-93b1-14b946af0c94",
     "showTitle": false,
     "tableResultSettingsMap": {},
     "title": ""
    }
   },
   "source": [
    "# Getting Started with Function Calling\n",
    "\n",
    "We will be using the [OpenAI APIs](https://platform.openai.com/) for all examples.\n",
    "\n",
    "https://platform.openai.com/docs/guides/function-calling"
   ]
  },
  {
   "cell_type": "markdown",
   "metadata": {
    "application/vnd.databricks.v1+cell": {
     "cellMetadata": {},
     "inputWidgets": {},
     "nuid": "c15e3ea0-a798-4f26-b547-b0608a71391b",
     "showTitle": false,
     "tableResultSettingsMap": {},
     "title": ""
    }
   },
   "source": [
    "---"
   ]
  },
  {
   "cell_type": "markdown",
   "metadata": {
    "application/vnd.databricks.v1+cell": {
     "cellMetadata": {},
     "inputWidgets": {},
     "nuid": "e2c51310-cccb-48bd-88ac-6ba9b223d61b",
     "showTitle": false,
     "tableResultSettingsMap": {},
     "title": ""
    }
   },
   "source": [
    "## 3. Function Calling with LLMs\n",
    "\n",
    "Objectives\n",
    "- Understand the concept of function calling with LLMs\n",
    "- Load the necessary libraries\n",
    "- Learn how to define and use function calling"
   ]
  },
  {
   "cell_type": "markdown",
   "metadata": {
    "application/vnd.databricks.v1+cell": {
     "cellMetadata": {},
     "inputWidgets": {},
     "nuid": "d8b0787f-717c-4028-af78-8bc211a3bd88",
     "showTitle": false,
     "tableResultSettingsMap": {},
     "title": ""
    }
   },
   "source": [
    "Below we are loading the necessary libraries, utilities, and configurations."
   ]
  },
  {
   "cell_type": "code",
   "execution_count": 0,
   "metadata": {
    "application/vnd.databricks.v1+cell": {
     "cellMetadata": {
      "byteLimit": 2048000,
      "rowLimit": 10000
     },
     "inputWidgets": {},
     "nuid": "5cb3124a-d7e2-4a19-85f9-a5ae8186f7bf",
     "showTitle": false,
     "tableResultSettingsMap": {},
     "title": ""
    }
   },
   "outputs": [
    {
     "output_type": "stream",
     "name": "stdout",
     "output_type": "stream",
     "text": [
      "Collecting openai\n  Downloading openai-2.1.0-py3-none-any.whl (964 kB)\n     ━━━━━━━━━━━━━━━━━━━━━━━━━━━━━━━━━━━━━━━ 964.9/964.9 kB 9.6 MB/s eta 0:00:00\nCollecting jiter<1,>=0.4.0\n  Downloading jiter-0.11.0-cp310-cp310-manylinux_2_17_x86_64.manylinux2014_x86_64.whl (348 kB)\n     ━━━━━━━━━━━━━━━━━━━━━━━━━━━━━━━━━━━━━━ 348.7/348.7 kB 75.9 MB/s eta 0:00:00\nCollecting httpx<1,>=0.23.0\n  Downloading httpx-0.28.1-py3-none-any.whl (73 kB)\n     ━━━━━━━━━━━━━━━━━━━━━━━━━━━━━━━━━━━━━━━━ 73.5/73.5 kB 25.6 MB/s eta 0:00:00\nRequirement already satisfied: anyio<5,>=3.5.0 in /databricks/python3/lib/python3.10/site-packages (from openai) (3.5.0)\nRequirement already satisfied: sniffio in /databricks/python3/lib/python3.10/site-packages (from openai) (1.2.0)\nRequirement already satisfied: distro<2,>=1.7.0 in /usr/lib/python3/dist-packages (from openai) (1.7.0)\nCollecting typing-extensions<5,>=4.11\n  Downloading typing_extensions-4.15.0-py3-none-any.whl (44 kB)\n     ━━━━━━━━━━━━━━━━━━━━━━━━━━━━━━━━━━━━━━━━ 44.6/44.6 kB 15.2 MB/s eta 0:00:00\nRequirement already satisfied: pydantic<3,>=1.9.0 in /databricks/python3/lib/python3.10/site-packages (from openai) (1.10.6)\nCollecting tqdm>4\n  Downloading tqdm-4.67.1-py3-none-any.whl (78 kB)\n     ━━━━━━━━━━━━━━━━━━━━━━━━━━━━━━━━━━━━━━━━ 78.5/78.5 kB 27.5 MB/s eta 0:00:00\nRequirement already satisfied: idna>=2.8 in /databricks/python3/lib/python3.10/site-packages (from anyio<5,>=3.5.0->openai) (3.4)\nRequirement already satisfied: certifi in /databricks/python3/lib/python3.10/site-packages (from httpx<1,>=0.23.0->openai) (2022.12.7)\nCollecting httpcore==1.*\n  Downloading httpcore-1.0.9-py3-none-any.whl (78 kB)\n     ━━━━━━━━━━━━━━━━━━━━━━━━━━━━━━━━━━━━━━━━ 78.8/78.8 kB 10.7 MB/s eta 0:00:00\nCollecting h11>=0.16\n  Downloading h11-0.16.0-py3-none-any.whl (37 kB)\nInstalling collected packages: typing-extensions, tqdm, jiter, h11, httpcore, httpx, openai\n  Attempting uninstall: typing-extensions\n    Found existing installation: typing_extensions 4.4.0\n    Not uninstalling typing-extensions at /databricks/python3/lib/python3.10/site-packages, outside environment /local_disk0/.ephemeral_nfs/envs/pythonEnv-ffa56110-b521-42b4-bb4b-a5229aa243af\n    Can't uninstall 'typing_extensions'. No files were found to uninstall.\nSuccessfully installed h11-0.16.0 httpcore-1.0.9 httpx-0.28.1 jiter-0.11.0 openai-2.1.0 tqdm-4.67.1 typing-extensions-4.15.0\n\u001B[43mNote: you may need to restart the kernel using %restart_python or dbutils.library.restartPython() to use updated packages.\u001B[0m\nRequirement already satisfied: typing_extensions in /local_disk0/.ephemeral_nfs/envs/pythonEnv-ffa56110-b521-42b4-bb4b-a5229aa243af/lib/python3.10/site-packages (4.15.0)\n\u001B[43mNote: you may need to restart the kernel using %restart_python or dbutils.library.restartPython() to use updated packages.\u001B[0m\n"
     ]
    }
   ],
   "source": [
    "# update or install the necessary libraries\n",
    "!pip install openai\n",
    "!pip install --upgrade typing_extensions"
   ]
  },
  {
   "cell_type": "code",
   "execution_count": 0,
   "metadata": {
    "application/vnd.databricks.v1+cell": {
     "cellMetadata": {
      "byteLimit": 2048000,
      "rowLimit": 10000
     },
     "inputWidgets": {},
     "nuid": "9366abbd-91a2-4c38-a0ec-22fa88f32144",
     "showTitle": false,
     "tableResultSettingsMap": {},
     "title": ""
    }
   },
   "outputs": [],
   "source": [
    "dbutils.library.restartPython()"
   ]
  },
  {
   "cell_type": "markdown",
   "metadata": {
    "application/vnd.databricks.v1+cell": {
     "cellMetadata": {
      "byteLimit": 2048000,
      "rowLimit": 10000
     },
     "inputWidgets": {},
     "nuid": "0976d266-2df7-490e-a1a0-928a0863e6b6",
     "showTitle": false,
     "tableResultSettingsMap": {},
     "title": ""
    }
   },
   "source": [
    "# The tool calling flow\n",
    "\n",
    "Tool calling is a multi-step conversation between your application and a model via the OpenAI API. The tool calling flow has five high-level steps:\n",
    "\n",
    "1. Make a request to the model with tools it could call\n",
    "2. Receive a tool call from the model\n",
    "3. Execute code on the application side with input from the tool call\n",
    "4. Make a second request to the model with the tool output\n",
    "5. Receive a final response from the model (or more tool calls)\n",
    "\n",
    "<img src=\"https://cdn.openai.com/API/docs/images/function-calling-diagram-steps.png\" alt=\"Function Calling Diagram\" width=\"550\"/>"
   ]
  },
  {
   "cell_type": "code",
   "execution_count": 0,
   "metadata": {
    "application/vnd.databricks.v1+cell": {
     "cellMetadata": {
      "byteLimit": 2048000,
      "rowLimit": 10000
     },
     "inputWidgets": {},
     "nuid": "d2a38936-c19a-4cb4-b112-37188c7564bb",
     "showTitle": false,
     "tableResultSettingsMap": {},
     "title": ""
    }
   },
   "outputs": [],
   "source": [
    "from openai import OpenAI\n",
    "import os\n",
    "import json\n",
    "import IPython\n",
    "from datetime import datetime\n",
    "from zoneinfo import ZoneInfo\n",
    "\n",
    "\n",
    "DATABRICKS_TOKEN = dbutils.notebook.entry_point.getDbutils().notebook().getContext().apiToken().get()\n",
    "\n",
    "client = OpenAI(\n",
    "  api_key=DATABRICKS_TOKEN,\n",
    "  base_url=\"https://adb-3750392177977863.3.azuredatabricks.net/serving-endpoints\"\n",
    ")"
   ]
  },
  {
   "cell_type": "markdown",
   "metadata": {
    "application/vnd.databricks.v1+cell": {
     "cellMetadata": {},
     "inputWidgets": {},
     "nuid": "eaf462bf-2c44-472d-be1f-c8bc9071918e",
     "showTitle": false,
     "tableResultSettingsMap": {},
     "title": ""
    }
   },
   "source": [
    "### 3.1 Example"
   ]
  },
  {
   "cell_type": "code",
   "execution_count": 0,
   "metadata": {
    "application/vnd.databricks.v1+cell": {
     "cellMetadata": {
      "byteLimit": 2048000,
      "rowLimit": 10000
     },
     "inputWidgets": {},
     "nuid": "6c75be1f-4ddc-405b-bdcc-4592085f442c",
     "showTitle": false,
     "tableResultSettingsMap": {},
     "title": ""
    }
   },
   "outputs": [],
   "source": [
    "# Simplified timezone data\n",
    "TIMEZONE_DATA = {\n",
    "    \"tokyo\": \"Asia/Tokyo\",\n",
    "    \"san francisco\": \"America/Los_Angeles\",\n",
    "    \"paris\": \"Europe/Paris\"\n",
    "}\n",
    "\n",
    "def get_current_time(location):\n",
    "    \"\"\"Get the current time for a given location\"\"\"\n",
    "    print(f\"get_current_time called with location: {location}\")  \n",
    "    location_lower = location.lower()\n",
    "    \n",
    "    for key, timezone in TIMEZONE_DATA.items():\n",
    "        if key in location_lower:\n",
    "            print(f\"Timezone found for {key}\")  \n",
    "            current_time = datetime.now(ZoneInfo(timezone)).strftime(\"%I:%M %p\")\n",
    "            return json.dumps({\n",
    "                \"location\": location,\n",
    "                \"current_time\": current_time\n",
    "            })\n",
    "    \n",
    "    print(f\"No timezone data found for {location_lower}\")  \n",
    "    return json.dumps({\"location\": location, \"current_time\": \"unknown\"})"
   ]
  },
  {
   "cell_type": "code",
   "execution_count": 0,
   "metadata": {
    "application/vnd.databricks.v1+cell": {
     "cellMetadata": {
      "byteLimit": 2048000,
      "rowLimit": 10000
     },
     "inputWidgets": {},
     "nuid": "27d13d18-4a8b-4e44-b5cc-2a8a9a5d1efe",
     "showTitle": false,
     "tableResultSettingsMap": {},
     "title": ""
    }
   },
   "outputs": [
    {
     "output_type": "stream",
     "name": "stdout",
     "output_type": "stream",
     "text": [
      "get_current_time called with location: paris\nTimezone found for paris\n"
     ]
    },
    {
     "output_type": "execute_result",
     "data": {
      "text/plain": [
       "'{\"location\": \"paris\", \"current_time\": \"03:46 PM\"}'"
      ]
     },
     "execution_count": 16,
     "metadata": {},
     "output_type": "execute_result"
    }
   ],
   "source": [
    "get_current_time(\"paris\")"
   ]
  },
  {
   "cell_type": "code",
   "execution_count": 0,
   "metadata": {
    "application/vnd.databricks.v1+cell": {
     "cellMetadata": {
      "byteLimit": 2048000,
      "rowLimit": 10000
     },
     "inputWidgets": {},
     "nuid": "91903ee7-281a-4d30-b06d-740bc6262673",
     "showTitle": false,
     "tableResultSettingsMap": {},
     "title": ""
    }
   },
   "outputs": [],
   "source": [
    "# Define the function for the model\n",
    "tools = [\n",
    "    {\n",
    "        \"type\": \"function\",\n",
    "        \"function\": {\n",
    "            \"name\": \"get_current_time\",\n",
    "            \"description\": \"Get the current time in a given location\",\n",
    "            \"parameters\": {\n",
    "                \"type\": \"object\",\n",
    "                \"properties\": {\n",
    "                    \"location\": {\n",
    "                        \"type\": \"string\",\n",
    "                        \"description\": \"The city name, e.g. San Francisco\",\n",
    "                    },\n",
    "                },\n",
    "                \"required\": [\"location\"],\n",
    "            },\n",
    "        }\n",
    "    }\n",
    "]"
   ]
  },
  {
   "cell_type": "code",
   "execution_count": 0,
   "metadata": {
    "application/vnd.databricks.v1+cell": {
     "cellMetadata": {
      "byteLimit": 2048000,
      "rowLimit": 10000
     },
     "inputWidgets": {},
     "nuid": "fb62c2be-fd83-46fb-9e67-1f2c8251f4a9",
     "showTitle": false,
     "tableResultSettingsMap": {},
     "title": ""
    }
   },
   "outputs": [],
   "source": [
    "messages = [{\"role\": \"user\", \"content\": \"What's the current time in Paris\"}] # Single function call\n",
    "\n",
    "response = client.chat.completions.create(\n",
    "  messages=messages,\n",
    "  model=\"databricks-gpt-oss-120b\",\n",
    "  tools=tools,\n",
    "  tool_choice=\"auto\",\n",
    ")"
   ]
  },
  {
   "cell_type": "code",
   "execution_count": 0,
   "metadata": {
    "application/vnd.databricks.v1+cell": {
     "cellMetadata": {
      "byteLimit": 2048000,
      "rowLimit": 10000
     },
     "inputWidgets": {},
     "nuid": "5f7e101c-3c3e-4e77-8cba-9be984e48ade",
     "showTitle": false,
     "tableResultSettingsMap": {},
     "title": ""
    }
   },
   "outputs": [
    {
     "output_type": "stream",
     "name": "stdout",
     "output_type": "stream",
     "text": [
      "ChatCompletionMessage(content=None, refusal=None, role='assistant', annotations=None, audio=None, function_call=None, tool_calls=[ChatCompletionMessageFunctionToolCall(id='call_da37093c-16c6-4d2f-8b39-161b9a8278ee', function=Function(arguments='{\\n  \"location\": \"Paris\"\\n}', name='get_current_time'), type='function')])\n"
     ]
    }
   ],
   "source": [
    "response_message = response.choices[0].message\n",
    "print(response_message)"
   ]
  },
  {
   "cell_type": "code",
   "execution_count": 0,
   "metadata": {
    "application/vnd.databricks.v1+cell": {
     "cellMetadata": {
      "byteLimit": 2048000,
      "rowLimit": 10000
     },
     "inputWidgets": {},
     "nuid": "af437655-2d46-4613-bbb7-73442fe6ddbb",
     "showTitle": false,
     "tableResultSettingsMap": {},
     "title": ""
    }
   },
   "outputs": [
    {
     "output_type": "stream",
     "name": "stdout",
     "output_type": "stream",
     "text": [
      "Function arguments: {'location': 'Paris'}\nget_current_time called with location: Paris\nTimezone found for paris\n"
     ]
    }
   ],
   "source": [
    "messages.append(response_message)\n",
    "\n",
    "# Handle function calls\n",
    "if response_message.tool_calls:\n",
    "    for tool_call in response_message.tool_calls:\n",
    "        if tool_call.function.name == \"get_current_time\":\n",
    "            function_args = json.loads(tool_call.function.arguments)\n",
    "            print(f\"Function arguments: {function_args}\")  \n",
    "            time_response = get_current_time(\n",
    "                location=function_args.get(\"location\")\n",
    "            )\n",
    "            messages.append({\n",
    "                \"tool_call_id\": tool_call.id,\n",
    "                \"role\": \"tool\",\n",
    "                \"name\": \"get_current_time\",\n",
    "                \"content\": time_response,\n",
    "            })\n",
    "else:\n",
    "    print(\"No tool calls were made by the model.\")  "
   ]
  },
  {
   "cell_type": "code",
   "execution_count": 0,
   "metadata": {
    "application/vnd.databricks.v1+cell": {
     "cellMetadata": {
      "byteLimit": 2048000,
      "rowLimit": 10000
     },
     "inputWidgets": {},
     "nuid": "a4cdceaf-d8f6-4898-8abc-6baf54deddc0",
     "showTitle": false,
     "tableResultSettingsMap": {},
     "title": ""
    }
   },
   "outputs": [],
   "source": [
    "# Second API call: Get the final response from the model\n",
    "\n",
    "final_response = client.chat.completions.create(\n",
    "  messages=messages,\n",
    "  model=\"databricks-gpt-oss-120b\",\n",
    "  tools=tools,\n",
    "  tool_choice=\"auto\",\n",
    ")"
   ]
  },
  {
   "cell_type": "code",
   "execution_count": 0,
   "metadata": {
    "application/vnd.databricks.v1+cell": {
     "cellMetadata": {
      "byteLimit": 2048000,
      "rowLimit": 10000
     },
     "inputWidgets": {},
     "nuid": "ea9a63ba-5d89-4e35-9b03-6240e2c503c9",
     "showTitle": false,
     "tableResultSettingsMap": {},
     "title": ""
    }
   },
   "outputs": [
    {
     "output_type": "stream",
     "name": "stdout",
     "output_type": "stream",
     "text": [
      "The current time in Paris is 03:55 PM.\n"
     ]
    }
   ],
   "source": [
    "print(final_response.choices[0].message.content)"
   ]
  }
 ],
 "metadata": {
  "application/vnd.databricks.v1+notebook": {
   "computePreferences": {
    "hardware": {
     "accelerator": null,
     "gpuPoolId": null,
     "memory": null
    }
   },
   "dashboards": [],
   "environmentMetadata": null,
   "inputWidgetPreferences": null,
   "language": "python",
   "notebookMetadata": {
    "pythonIndentUnit": 4
   },
   "notebookName": "03.function_calling",
   "widgets": {}
  },
  "kernelspec": {
   "display_name": "promptlecture",
   "language": "python",
   "name": "python3"
  },
  "language_info": {
   "name": "python"
  },
  "orig_nbformat": 4,
  "vscode": {
   "interpreter": {
    "hash": "f38e0373277d6f71ee44ee8fea5f1d408ad6999fda15d538a69a99a1665a839d"
   }
  }
 },
 "nbformat": 4,
 "nbformat_minor": 0
}